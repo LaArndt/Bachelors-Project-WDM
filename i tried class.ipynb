{
 "cells": [
  {
   "cell_type": "code",
   "execution_count": 1,
   "metadata": {},
   "outputs": [],
   "source": [
    "from classy import Class\n",
    "LCDM= Class()"
   ]
  },
  {
   "cell_type": "code",
   "execution_count": 2,
   "metadata": {},
   "outputs": [],
   "source": [
    "LCDM.set({\"omega_b\":0.022032, \"omega_cdm\":0.12038, \"h\":0.67556, 'A_s':2.215e-9, \"n_s\":0.9619\n",
    ", \"tau_reio\":0.0925})\n",
    "LCDM.set({\"output\":\"tCl, pCl, lCl, mPk\",\"lensing\":\"yes\", \"P_k_max_1/Mpc\":3.0})\n",
    "\n",
    "LCDM.compute()"
   ]
  },
  {
   "cell_type": "code",
   "execution_count": 3,
   "metadata": {},
   "outputs": [],
   "source": [
    "cls = LCDM.lensed_cl(2500)\n",
    "#cls.viewkeys()"
   ]
  },
  {
   "cell_type": "code",
   "execution_count": 4,
   "metadata": {},
   "outputs": [],
   "source": [
    "ll = cls[\"ell\"][2:]\n",
    "clTT = cls[\"tt\"][2:]\n",
    "clEE = cls[\"ee\"][2:]\n",
    "clPP = cls[\"pp\"][2:]"
   ]
  },
  {
   "cell_type": "code",
   "execution_count": 5,
   "metadata": {},
   "outputs": [
    {
     "data": {
      "text/plain": [
       "[<matplotlib.lines.Line2D at 0x7f63762a5640>]"
      ]
     },
     "execution_count": 5,
     "metadata": {},
     "output_type": "execute_result"
    },
    {
     "data": {
      "image/png": "[encoded data removed]",
      "text/plain": [
       "<Figure size 432x288 with 1 Axes>"
      ]
     },
     "metadata": {
      "needs_background": "light"
     },
     "output_type": "display_data"
    }
   ],
   "source": [
    "import matplotlib.pyplot as plt\n",
    "from math import pi\n",
    "\n",
    "%matplotlib inline\n",
    "plt.figure(1)\n",
    "#plt.xscale(\"log\");plt.ysale(\"linear\");plt.xlim(2,2500)\n",
    "#plt.xlabel(r\"$\\ell$\")\n",
    "#plt.ylabel(r\"$[\\ ell (\\ ell +1) /2\\ pi] C_\\ ell ^\\ mathrm {TT}$\")\n",
    "plt.plot(ll , clTT * ll *( ll +1) /2./ pi ,\"r-\")\n"
   ]
  },
  {
   "cell_type": "code",
   "execution_count": 6,
   "metadata": {},
   "outputs": [],
   "source": [
    "import numpy as np\n",
    "var_name = \"annihilation\"\n",
    "var_array = np.linspace(0,1.e-5,5)\n",
    "common_settings = {\"omega_b\":0.022032, \"omega_cdm\":0.12038, \"h\":0.67556, 'A_s':2.215e-9, \"n_s\":0.9619\n",
    ", \"tau_reio\":0.0925}\n",
    "common_output ={\"output\":\"tCl, pCl, lCl, mPk\",\"lensing\":\"yes\", \"P_k_max_1/Mpc\":3.0}\n",
    "\n",
    "for i, var in enumerate (var_array):\n",
    "    M = Class()\n",
    "    M.set(common_settings)\n",
    "    M.set(common_output)\n",
    "    M.set({var_name:var})\n",
    "    M.compute()\n",
    "    clM = M.lensed_cl(2500)\n"
   ]
  },
  {
   "cell_type": "code",
   "execution_count": 7,
   "metadata": {},
   "outputs": [],
   "source": [
    "PLCDM = Class() # firing up class module, initating model??\n",
    "PLCDM.set({\"output\":\"tCl\",\"modes\":\"s,t\",\"n_s\":1 , \"r\":0.2}) # setting parameters but whihch & how?\n",
    "PLCDM.compute()   # Computing model"
   ]
  },
  {
   "cell_type": "code",
   "execution_count": 13,
   "metadata": {},
   "outputs": [
    {
     "ename": "TypeError",
     "evalue": "a bytes-like object is required, not 'str'",
     "output_type": "error",
     "traceback": [
      "\u001b[0;31m---------------------------------------------------------------------------\u001b[0m",
      "\u001b[0;31mTypeError\u001b[0m                                 Traceback (most recent call last)",
      "\u001b[0;32m/tmp/ipykernel_16928/1140742824.py\u001b[0m in \u001b[0;36m<module>\u001b[0;34m\u001b[0m\n\u001b[0;32m----> 1\u001b[0;31m \u001b[0mpm\u001b[0m\u001b[0;34m=\u001b[0m\u001b[0mPLCDM\u001b[0m\u001b[0;34m.\u001b[0m\u001b[0mget_primordial\u001b[0m\u001b[0;34m(\u001b[0m\u001b[0;34m)\u001b[0m\u001b[0;34m\u001b[0m\u001b[0;34m\u001b[0m\u001b[0m\n\u001b[0m\u001b[1;32m      2\u001b[0m \u001b[0mprint\u001b[0m\u001b[0;34m(\u001b[0m\u001b[0mpm\u001b[0m\u001b[0;34m)\u001b[0m\u001b[0;34m\u001b[0m\u001b[0;34m\u001b[0m\u001b[0m\n",
      "\u001b[0;32mclassy.pyx\u001b[0m in \u001b[0;36mclassy.Class.get_primordial\u001b[0;34m()\u001b[0m\n",
      "\u001b[0;31mTypeError\u001b[0m: a bytes-like object is required, not 'str'"
     ]
    }
   ],
   "source": [
    "pm=PLCDM.get_primordial()\n",
    "print(pm)\n"
   ]
  },
  {
   "cell_type": "code",
   "execution_count": null,
   "metadata": {},
   "outputs": [],
   "source": []
  }
 ],
 "metadata": {
  "interpreter": {
   "hash": "481ce3fc40082302ac9039ea1026a58f6988413c6249ef5ad6c5b65c115336a3"
  },
  "kernelspec": {
   "display_name": "Python 3.9.7 ('base')",
   "language": "python",
   "name": "python3"
  },
  "language_info": {
   "codemirror_mode": {
    "name": "ipython",
    "version": 3
   },
   "file_extension": ".py",
   "mimetype": "text/x-python",
   "name": "python",
   "nbconvert_exporter": "python",
   "pygments_lexer": "ipython3",
   "version": "3.9.7"
  },
  "orig_nbformat": 4
 },
 "nbformat": 4,
 "nbformat_minor": 2
}
